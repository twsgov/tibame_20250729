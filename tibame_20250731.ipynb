{
  "nbformat": 4,
  "nbformat_minor": 0,
  "metadata": {
    "colab": {
      "provenance": [],
      "include_colab_link": true
    },
    "kernelspec": {
      "name": "python3",
      "display_name": "Python 3"
    },
    "language_info": {
      "name": "python"
    }
  },
  "cells": [
    {
      "cell_type": "markdown",
      "metadata": {
        "id": "view-in-github",
        "colab_type": "text"
      },
      "source": [
        "<a href=\"https://colab.research.google.com/github/twsgov/tibame_20250729/blob/main/tibame_20250731.ipynb\" target=\"_parent\"><img src=\"https://colab.research.google.com/assets/colab-badge.svg\" alt=\"Open In Colab\"/></a>"
      ]
    },
    {
      "cell_type": "markdown",
      "source": [
        "\n",
        "\n",
        "```\n",
        "剪刀石頭布:\n",
        "1. 開始寫之前: 放下鍵盤滑鼠, 想好再寫\n",
        "\n",
        "核心邏輯: 判定輸贏(先預想擴充性)\n",
        "\n",
        "! 我出剪刀, 對手出石頭: 我輸了(X): 3 x 3\n",
        "! 我選擇的拳是你選擇的相鄰的下一個, 我贏了(o)\n",
        "\n",
        "? 剪刀石頭布該用什麼型態表示:\n",
        "字串: 1. 使用者會打錯  2. 沒辦法表示下一個的關係\n",
        "整數: 只要他有隱含的大小關係 或者 是你在要求使用者輸入(從0開始)\n",
        "\n",
        "1. 你只要使用別的.py定義的東西(python給你的/第三方的/你自己的)\n",
        "import .py名字\n",
        "先照抄一次import後的東西.(的)功能(參數)\n",
        "* 除了 built-in funcion: https://docs.python.org/zh-tw/3.13/library/functions.html 以外 你都要import\n",
        "\n",
        "\n",
        "2. list型態(清單型態):\n",
        "   trans = [\"剪刀\", \"石頭\", \"布\"]\n",
        "   python在創造這個list的時候, 還會偷偷幫你把每個東西給個編號(key)\n",
        "   key:      0        1      2\n",
        "   只要他有key-value配對的時候, 查詢(key->value):\n",
        "   查東西[key]\n",
        "\n",
        "3. 如果 否則如果 否則(if elif else)\n",
        "* 單選(篩選)!!!!!!! 嚴格的放上面\n",
        "* else(optional)\n",
        "* else很好用 把難的放到else\n",
        "\n",
        "if bmi > 25:\n",
        "    print\n",
        "elif bmi > 18:\n",
        "    print\n",
        "else:\n",
        "    print\n",
        "\n",
        "\n",
        "```\n",
        "\n"
      ],
      "metadata": {
        "id": "IYlMfdX5IcNp"
      }
    },
    {
      "cell_type": "markdown",
      "source": [
        "\n",
        "\n",
        "```\n",
        "循環:\n",
        "0 -> 1 -> 2 -> 3(0)\n",
        "\n",
        "我想到那我可以減回來(超過才能)\n",
        "7 / 3 = 2...1\n",
        "1. 取商: 7 // 3 -> 2\n",
        "2. 取餘數(mod): 7 % 3 -> 1\n",
        "7 - (3 - 3) ... 1\n",
        "\n",
        "除法: 高級減法 超過就減, 減到不能減為止剩多少\n",
        "\n",
        "0 % 3 = 0\n",
        "1     = 1\n",
        "2     = 2\n",
        "3     = 0\n",
        "\n",
        "循環: 餘數!!!!!\n",
        "\n",
        "0...2: % 3\n",
        "0...10: % 11\n",
        "0...n: % (n + 1)\n",
        "\n",
        "```\n",
        "\n"
      ],
      "metadata": {
        "id": "cowMKqoBblSF"
      }
    },
    {
      "cell_type": "code",
      "execution_count": null,
      "metadata": {
        "colab": {
          "base_uri": "https://localhost:8080/"
        },
        "id": "_nZFAKmOH09L",
        "outputId": "57fdeeda-ae83-4bd1-e807-95f568d9692d"
      },
      "outputs": [
        {
          "output_type": "stream",
          "name": "stdout",
          "text": [
            "0.剪刀 1.石頭 2.布:0\n",
            "我出的: 剪刀\n",
            "電腦的: 布\n",
            "WIN\n"
          ]
        }
      ],
      "source": [
        "import random\n",
        "\n",
        "# 創建一個轉換清單0->剪刀\n",
        "trans = [\"剪刀\", \"石頭\", \"布\"]\n",
        "my = int(input(\"0.剪刀 1.石頭 2.布:\"))\n",
        "com = random.randint(0, 2)\n",
        "print(\"我出的:\", trans[my])\n",
        "print(\"電腦的:\", trans[com])\n",
        "\n",
        "# 我選的是電腦的(下一個)循環\n",
        "if my == (com + 1) % 3:\n",
        "    print(\"WIN\")\n",
        "# 我選的是電腦的前一個\n",
        "elif com == (my + 1) % 3:\n",
        "    print(\"LOSE\")\n",
        "else:\n",
        "    print(\"EVEN\")"
      ]
    },
    {
      "cell_type": "code",
      "source": [
        "# 字串key-value查詢\n",
        "s = \"hello\"\n",
        "print(s[0])"
      ],
      "metadata": {
        "colab": {
          "base_uri": "https://localhost:8080/"
        },
        "id": "Fgl0nHiOW4dH",
        "outputId": "afc6adb3-e24b-4df1-d2a4-d8f5df30290c"
      },
      "execution_count": null,
      "outputs": [
        {
          "output_type": "stream",
          "name": "stdout",
          "text": [
            "h\n"
          ]
        }
      ]
    },
    {
      "cell_type": "markdown",
      "source": [
        "\n",
        "\n",
        "```\n",
        "shift+tab: 反縮排快捷鍵\n",
        "ctrl+c: copy\n",
        "ctrl+v: paste\n",
        "ctrl+z: previous step\n",
        "ctrl+shift+z: next step\n",
        "```\n",
        "\n"
      ],
      "metadata": {
        "id": "k7SWk2X7q7fo"
      }
    },
    {
      "cell_type": "code",
      "source": [
        "import random\n",
        "\n",
        "# 創建一個轉換清單0->剪刀\n",
        "trans = [\"剪刀(1)\", \"石頭(1)\", \"布(1)\", \"剪刀(2)\", \"石頭(2)\", \"布(2)\"]\n",
        "# my = int(input(\"0-5\"))\n",
        "# com = random.randint(0, 5)\n",
        "my = 0\n",
        "com = 1\n",
        "print(\"我出的:\", trans[my])\n",
        "print(\"電腦的:\", trans[com])\n",
        "\n",
        "# my, com\n",
        "# 0, 5: even\n",
        "# 0, 1: lose\n",
        "# 3, 4: lose\n",
        "\n",
        "# 先確定是否同組(取商)\n",
        "my_group = my // 3\n",
        "com_group = com // 3\n",
        "if my_group == com_group:\n",
        "    # case1: my, com (0-2)\n",
        "    # case2: my, com (3-5) -> (0-2)\n",
        "    # 想個辦法讓case1 case2 0-2\n",
        "    print(\"same group\")\n",
        "    my2 = my % 3\n",
        "    com2 = com % 3\n",
        "    # 我選的是電腦的(下一個)循環\n",
        "    if my2 == (com2 + 1) % 3:\n",
        "        print(\"WIN\")\n",
        "    # 我選的是電腦的前一個\n",
        "    elif com2 == (my2 + 1) % 3:\n",
        "        print(\"LOSE\")\n",
        "    else:\n",
        "        print(\"EVEN\")\n",
        "else:\n",
        "    print(\"EVEN(dif group)\")"
      ],
      "metadata": {
        "colab": {
          "base_uri": "https://localhost:8080/"
        },
        "id": "_GO5u6rBiLCw",
        "outputId": "800bdce2-7ab4-484a-b3d2-47516a575b64"
      },
      "execution_count": null,
      "outputs": [
        {
          "output_type": "stream",
          "name": "stdout",
          "text": [
            "我出的: 剪刀(1)\n",
            "電腦的: 石頭(1)\n",
            "same group\n",
            "LOSE\n"
          ]
        }
      ]
    },
    {
      "cell_type": "markdown",
      "source": [
        "\n",
        "\n",
        "```\n",
        "迴圈(重複)\n",
        "次數型迴圈\n",
        "數數的感覺(0...9)\n",
        "\n",
        "1. 初始化: i = 0\n",
        "2. 增加: i = i + 1\n",
        "3. 條件: i < 10\n",
        "```\n",
        "\n"
      ],
      "metadata": {
        "id": "NxXQgJDtsaEL"
      }
    },
    {
      "cell_type": "code",
      "source": [
        "i = 0\n",
        "while i < 10:\n",
        "    print(\"hello\")\n",
        "    i = i + 1"
      ],
      "metadata": {
        "colab": {
          "base_uri": "https://localhost:8080/"
        },
        "id": "Mt4Fb821tzMQ",
        "outputId": "578437cd-f9b0-44a8-a572-159aab7eb3d7"
      },
      "execution_count": null,
      "outputs": [
        {
          "output_type": "stream",
          "name": "stdout",
          "text": [
            "hello\n",
            "hello\n",
            "hello\n",
            "hello\n",
            "hello\n",
            "hello\n",
            "hello\n",
            "hello\n",
            "hello\n",
            "hello\n"
          ]
        }
      ]
    },
    {
      "cell_type": "code",
      "source": [
        "a = 3\n",
        "a = a + 1\n",
        "print(a)"
      ],
      "metadata": {
        "colab": {
          "base_uri": "https://localhost:8080/"
        },
        "id": "LrjcO3hBtL2P",
        "outputId": "8ea98fcf-d7d6-4536-854b-14585c8d1124"
      },
      "execution_count": null,
      "outputs": [
        {
          "output_type": "stream",
          "name": "stdout",
          "text": [
            "3\n",
            "4\n"
          ]
        }
      ]
    }
  ]
}